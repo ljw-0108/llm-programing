{
 "cells": [
  {
   "cell_type": "code",
   "execution_count": 1,
   "id": "8ab59092",
   "metadata": {},
   "outputs": [],
   "source": [
    "from datetime import datetime\n",
    "import pytz"
   ]
  },
  {
   "cell_type": "code",
   "execution_count": 2,
   "id": "07b87c0f",
   "metadata": {},
   "outputs": [],
   "source": [
    "def get_current_time(timezone: str = 'Asia/Seoul'):\n",
    "    tz = pytz.timezone(timezone) # 타임존 설정\n",
    "    now = datetime.now(tz).strftime(\"%Y-%m-%d %H:%M:%S\") # 설정한 타임존의 현재 시간을 다음 시간 포맷과 같이 반환 ex) 2025-10-27 20:00:00\n",
    "    now_timezone = f'{now} {timezone}'\n",
    "    print(now_timezone)\n",
    "    return now_timezone"
   ]
  },
  {
   "cell_type": "code",
   "execution_count": 3,
   "id": "1cfd2d67",
   "metadata": {},
   "outputs": [
    {
     "name": "stdout",
     "output_type": "stream",
     "text": [
      "2025-10-27 22:03:32 America/New_York\n"
     ]
    },
    {
     "data": {
      "text/plain": [
       "'2025-10-27 22:03:32 America/New_York'"
      ]
     },
     "execution_count": 3,
     "metadata": {},
     "output_type": "execute_result"
    }
   ],
   "source": [
    "get_current_time('America/New_York')"
   ]
  },
  {
   "cell_type": "code",
   "execution_count": 4,
   "id": "e038a381",
   "metadata": {},
   "outputs": [],
   "source": [
    "tools = [\n",
    "    {\n",
    "        \"type\": \"function\",\n",
    "        \"function\": {\n",
    "            \"name\": \"get_current_time\",\n",
    "            \"description\": \"해당 타임존의 날짜와 시간을 반환합니다.\",\n",
    "            \"parameters\": {\n",
    "                \"type\": \"object\",\n",
    "                \"properties\": {\n",
    "                    'timezone': {\n",
    "                        'type': 'string',\n",
    "                        'description': '현재 날짜와 시간을 반환할 타임존을 입력하세요. (예: Asia/Seoul)',\n",
    "                    },\n",
    "                },\n",
    "                \"required\": ['timezone'],\n",
    "            },\n",
    "        }\n",
    "    },\n",
    "]"
   ]
  },
  {
   "cell_type": "code",
   "execution_count": 5,
   "id": "536dfec6",
   "metadata": {},
   "outputs": [
    {
     "name": "stdout",
     "output_type": "stream",
     "text": [
      "2025-10-27 22:03:36 America/New_York\n"
     ]
    }
   ],
   "source": [
    "if __name__ == '__main__':\n",
    "    get_current_time('America/New_York')"
   ]
  },
  {
   "cell_type": "code",
   "execution_count": 6,
   "id": "569a3ef2",
   "metadata": {},
   "outputs": [],
   "source": [
    "from openai import OpenAI\n",
    "from dotenv import load_dotenv\n",
    "import os\n",
    "import json"
   ]
  },
  {
   "cell_type": "code",
   "execution_count": 7,
   "id": "d9241158",
   "metadata": {},
   "outputs": [],
   "source": [
    "load_dotenv()\n",
    "api_key = os.getenv(\"OPEN_API_KEY\")  # 환경 변수에서 API 키 가져오기\n",
    "\n",
    "client = OpenAI(api_key=api_key)  # 오픈AI 클라이언트의 인스턴스 생성"
   ]
  },
  {
   "cell_type": "code",
   "execution_count": 8,
   "id": "27f9fa20",
   "metadata": {},
   "outputs": [],
   "source": [
    "def get_ai_response(messages, tools=None):\n",
    "    response = client.chat.completions.create(\n",
    "        model=\"gpt-4o\",  # 응답 생성에 사용할 모델 지정\n",
    "        messages=messages,  # 대화 기록을 입력으로 전달\n",
    "        tools=tools,  # 사용 가능한 도구 목록 전달\n",
    "    )\n",
    "    return response  # 생성된 응답 내용 반환"
   ]
  },
  {
   "cell_type": "code",
   "execution_count": null,
   "id": "45d33b48",
   "metadata": {},
   "outputs": [],
   "source": [
    "messages = [\n",
    "    {\"role\": \"system\", \"content\": \"너는 사용자를 도와주는 상담사야.\"},  # 초기 시스템 메시지\n",
    "]\n",
    "\n",
    "while True:\n",
    "    user_input = input(\"사용자\\t: \")  # 사용자 입력 받기\n",
    "\n",
    "    if user_input == \"exit\":  # 사용자가 대화를 종료하려는지 확인\n",
    "        break\n",
    "\n",
    "    messages.append({\"role\": \"user\", \"content\": user_input})  # 사용자 메시지 대화 기록에 추가\n",
    "\n",
    "    ai_response = get_ai_response(messages, tools=tools)\n",
    "    ai_message = ai_response.choices[0].message\n",
    "    print(ai_message)  # gpt에서 반환되는 값을 파악하기 위해 임시로 추가\n",
    "\n",
    "    tool_calls = ai_message.tool_calls  # AI 응답에 포함된 tool_calls를 가져옴\n",
    "\n",
    "    if tool_calls:  # tool_calls가 있는 경우\n",
    "        for tool_call in tool_calls:\n",
    "            tool_name = tool_call.function.name # 실행해야한다고 판단한 함수명 받기\n",
    "            tool_call_id = tool_call.id         # tool_call 아이디 받기\n",
    "            arguments = json.loads(tool_call.function.arguments) # 문자열을 딕셔너리로 변환\n",
    "\n",
    "            if tool_name == \"get_current_time\":  # 만약 tool_name이 \"get_current_time\"이라면\n",
    "                messages.append({\n",
    "                    \"role\": \"function\",  # role을 \"function\"으로 설정\n",
    "                    \"tool_call_id\": tool_call_id,\n",
    "                    \"name\": tool_name,\n",
    "                    \"content\": get_current_time(timezone=arguments['timezone']),  # 타임존 추가\n",
    "                })\n",
    "\n",
    "        messages.append({\"role\": \"system\", \"content\": \"이제 주어진 결과를 바탕으로 답변할 차례다.\"})  # 함수 실행 완료 메시지 추가\n",
    "        ai_response = get_ai_response(messages, tools=tools) # 다시 GPT 응답 받기\n",
    "        ai_message = ai_response.choices[0].message\n",
    "\n",
    "    messages.append(ai_message)  # AI 응답을 대화 기록에 추가하기\n",
    "\n",
    "    print(\"AI\\t: \" + ai_message.content)  # AI 응답 출력"
   ]
  }
 ],
 "metadata": {
  "kernelspec": {
   "display_name": "llm",
   "language": "python",
   "name": "python3"
  },
  "language_info": {
   "codemirror_mode": {
    "name": "ipython",
    "version": 3
   },
   "file_extension": ".py",
   "mimetype": "text/x-python",
   "name": "python",
   "nbconvert_exporter": "python",
   "pygments_lexer": "ipython3",
   "version": "3.12.11"
  }
 },
 "nbformat": 4,
 "nbformat_minor": 5
}
