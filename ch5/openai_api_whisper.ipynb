{
 "cells": [
  {
   "cell_type": "code",
   "execution_count": null,
   "id": "423b93e4",
   "metadata": {},
   "outputs": [],
   "source": [
    "from openai import OpenAI\n",
    "from dotenv import load_dotenv\n",
    "import os\n",
    "\n",
    "load_dotenv()\n",
    "api_key = os.getenv('OPEN_API_KEY')\n",
    "client = OpenAI(api_key=api_key)\n",
    "\n",
    "audio_file_path = 'audio/lsy_audio_2023_58s.mp3' # MP3 파일 경로 입력\n",
    "\n",
    "with open(audio_file_path, 'rb') as audio_file:\n",
    "    transcription = client.audio.transcriptions.create(\n",
    "        model=\"whisper-1\",\n",
    "        file=audio_file\n",
    "    )\n",
    "\n",
    "transcription\n",
    "\n",
    "with open(audio_file_path, 'rb') as audio_file:\n",
    "    transcription = client.audio.translations.create(\n",
    "        model=\"whisper-1\", \n",
    "        file=audio_file, \n",
    "    )\n",
    "\n",
    "transcription\n"
   ]
  }
 ],
 "metadata": {
  "language_info": {
   "name": "python"
  }
 },
 "nbformat": 4,
 "nbformat_minor": 5
}
